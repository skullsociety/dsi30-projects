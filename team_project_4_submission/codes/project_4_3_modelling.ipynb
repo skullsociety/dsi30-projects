{
 "cells": [
  {
   "cell_type": "markdown",
   "id": "343caf45-1467-4e4e-b1f1-2c8d64f4ae09",
   "metadata": {
    "tags": []
   },
   "source": [
    "## Preprocessing"
   ]
  },
  {
   "cell_type": "code",
   "execution_count": 1,
   "id": "56dfa0c0-9185-4e17-b2d5-09a9791c3ae3",
   "metadata": {},
   "outputs": [],
   "source": [
    "import pandas as pd\n",
    "import numpy as np\n",
    "import matplotlib.pyplot as plt\n",
    "from sklearn.preprocessing import StandardScaler\n",
    "from sklearn.model_selection import train_test_split, GridSearchCV\n",
    "\n",
    "from sklearn import metrics\n",
    "from sklearn.metrics import plot_confusion_matrix, accuracy_score, plot_roc_curve, auc, roc_curve, confusion_matrix, roc_auc_score\n",
    "\n",
    "\n",
    "from sklearn.linear_model import LogisticRegression\n",
    "from sklearn.ensemble import RandomForestClassifier\n",
    "from sklearn.ensemble import AdaBoostClassifier\n",
    "from xgboost import XGBClassifier\n",
    "\n",
    "from imblearn.over_sampling import SMOTE\n",
    "from imblearn.pipeline import Pipeline\n",
    "\n",
    "import warnings\n",
    "warnings.filterwarnings('ignore')"
   ]
  },
  {
   "cell_type": "code",
   "execution_count": 2,
   "id": "32abe4d5-418c-4a40-8e1f-824ae42533eb",
   "metadata": {},
   "outputs": [],
   "source": [
    "#Importing Train and Test Data for Modelling\n",
    "\n",
    "df_train = pd.read_csv(\"../assets/train_tomodel.csv\")\n",
    "df_test = pd.read_csv(\"../assets/test_tomodel.csv\")"
   ]
  },
  {
   "cell_type": "code",
   "execution_count": 3,
   "id": "1d57e13b-15e2-485c-a4c4-a7656b6cac20",
   "metadata": {},
   "outputs": [
    {
     "data": {
      "text/html": [
       "<div>\n",
       "<style scoped>\n",
       "    .dataframe tbody tr th:only-of-type {\n",
       "        vertical-align: middle;\n",
       "    }\n",
       "\n",
       "    .dataframe tbody tr th {\n",
       "        vertical-align: top;\n",
       "    }\n",
       "\n",
       "    .dataframe thead th {\n",
       "        text-align: right;\n",
       "    }\n",
       "</style>\n",
       "<table border=\"1\" class=\"dataframe\">\n",
       "  <thead>\n",
       "    <tr style=\"text-align: right;\">\n",
       "      <th></th>\n",
       "      <th>Latitude</th>\n",
       "      <th>Longitude</th>\n",
       "      <th>NumMosquitos</th>\n",
       "      <th>WnvPresent</th>\n",
       "      <th>Tmax</th>\n",
       "      <th>WetBulb</th>\n",
       "      <th>ResultSpeed</th>\n",
       "      <th>AvgSpeed</th>\n",
       "      <th>relative_humidity</th>\n",
       "      <th>Trange</th>\n",
       "      <th>...</th>\n",
       "      <th>relative_humidity_14</th>\n",
       "      <th>Trange_14</th>\n",
       "      <th>Species_CULEX PIPIENS</th>\n",
       "      <th>Species_CULEX PIPIENS/RESTUANS</th>\n",
       "      <th>Species_CULEX RESTUANS</th>\n",
       "      <th>Month_6</th>\n",
       "      <th>Month_7</th>\n",
       "      <th>Month_8</th>\n",
       "      <th>Month_10</th>\n",
       "      <th>Species_OTHERS</th>\n",
       "    </tr>\n",
       "  </thead>\n",
       "  <tbody>\n",
       "    <tr>\n",
       "      <th>0</th>\n",
       "      <td>41.731922</td>\n",
       "      <td>-87.677512</td>\n",
       "      <td>1</td>\n",
       "      <td>0</td>\n",
       "      <td>88.0</td>\n",
       "      <td>65.5</td>\n",
       "      <td>5.8</td>\n",
       "      <td>6.95</td>\n",
       "      <td>64</td>\n",
       "      <td>28</td>\n",
       "      <td>...</td>\n",
       "      <td>41.357143</td>\n",
       "      <td>24.785714</td>\n",
       "      <td>1</td>\n",
       "      <td>0</td>\n",
       "      <td>0</td>\n",
       "      <td>0</td>\n",
       "      <td>0</td>\n",
       "      <td>0</td>\n",
       "      <td>0</td>\n",
       "      <td>0</td>\n",
       "    </tr>\n",
       "    <tr>\n",
       "      <th>1</th>\n",
       "      <td>41.954690</td>\n",
       "      <td>-87.800991</td>\n",
       "      <td>1</td>\n",
       "      <td>0</td>\n",
       "      <td>88.0</td>\n",
       "      <td>65.5</td>\n",
       "      <td>5.8</td>\n",
       "      <td>6.95</td>\n",
       "      <td>64</td>\n",
       "      <td>28</td>\n",
       "      <td>...</td>\n",
       "      <td>41.357143</td>\n",
       "      <td>24.785714</td>\n",
       "      <td>0</td>\n",
       "      <td>1</td>\n",
       "      <td>0</td>\n",
       "      <td>0</td>\n",
       "      <td>0</td>\n",
       "      <td>0</td>\n",
       "      <td>0</td>\n",
       "      <td>0</td>\n",
       "    </tr>\n",
       "    <tr>\n",
       "      <th>2</th>\n",
       "      <td>41.974089</td>\n",
       "      <td>-87.824812</td>\n",
       "      <td>1</td>\n",
       "      <td>0</td>\n",
       "      <td>88.0</td>\n",
       "      <td>65.5</td>\n",
       "      <td>5.8</td>\n",
       "      <td>6.95</td>\n",
       "      <td>64</td>\n",
       "      <td>28</td>\n",
       "      <td>...</td>\n",
       "      <td>41.357143</td>\n",
       "      <td>24.785714</td>\n",
       "      <td>0</td>\n",
       "      <td>1</td>\n",
       "      <td>0</td>\n",
       "      <td>0</td>\n",
       "      <td>0</td>\n",
       "      <td>0</td>\n",
       "      <td>0</td>\n",
       "      <td>0</td>\n",
       "    </tr>\n",
       "    <tr>\n",
       "      <th>3</th>\n",
       "      <td>41.867108</td>\n",
       "      <td>-87.654224</td>\n",
       "      <td>1</td>\n",
       "      <td>0</td>\n",
       "      <td>88.0</td>\n",
       "      <td>65.5</td>\n",
       "      <td>5.8</td>\n",
       "      <td>6.95</td>\n",
       "      <td>64</td>\n",
       "      <td>28</td>\n",
       "      <td>...</td>\n",
       "      <td>41.357143</td>\n",
       "      <td>24.785714</td>\n",
       "      <td>0</td>\n",
       "      <td>1</td>\n",
       "      <td>0</td>\n",
       "      <td>0</td>\n",
       "      <td>0</td>\n",
       "      <td>0</td>\n",
       "      <td>0</td>\n",
       "      <td>0</td>\n",
       "    </tr>\n",
       "    <tr>\n",
       "      <th>4</th>\n",
       "      <td>41.919343</td>\n",
       "      <td>-87.694259</td>\n",
       "      <td>1</td>\n",
       "      <td>0</td>\n",
       "      <td>88.0</td>\n",
       "      <td>65.5</td>\n",
       "      <td>5.8</td>\n",
       "      <td>6.95</td>\n",
       "      <td>64</td>\n",
       "      <td>28</td>\n",
       "      <td>...</td>\n",
       "      <td>41.357143</td>\n",
       "      <td>24.785714</td>\n",
       "      <td>0</td>\n",
       "      <td>1</td>\n",
       "      <td>0</td>\n",
       "      <td>0</td>\n",
       "      <td>0</td>\n",
       "      <td>0</td>\n",
       "      <td>0</td>\n",
       "      <td>0</td>\n",
       "    </tr>\n",
       "  </tbody>\n",
       "</table>\n",
       "<p>5 rows × 35 columns</p>\n",
       "</div>"
      ],
      "text/plain": [
       "    Latitude  Longitude  NumMosquitos  WnvPresent  Tmax  WetBulb  ResultSpeed  \\\n",
       "0  41.731922 -87.677512             1           0  88.0     65.5          5.8   \n",
       "1  41.954690 -87.800991             1           0  88.0     65.5          5.8   \n",
       "2  41.974089 -87.824812             1           0  88.0     65.5          5.8   \n",
       "3  41.867108 -87.654224             1           0  88.0     65.5          5.8   \n",
       "4  41.919343 -87.694259             1           0  88.0     65.5          5.8   \n",
       "\n",
       "   AvgSpeed  relative_humidity  Trange  ...  relative_humidity_14  Trange_14  \\\n",
       "0      6.95                 64      28  ...             41.357143  24.785714   \n",
       "1      6.95                 64      28  ...             41.357143  24.785714   \n",
       "2      6.95                 64      28  ...             41.357143  24.785714   \n",
       "3      6.95                 64      28  ...             41.357143  24.785714   \n",
       "4      6.95                 64      28  ...             41.357143  24.785714   \n",
       "\n",
       "   Species_CULEX PIPIENS  Species_CULEX PIPIENS/RESTUANS  \\\n",
       "0                      1                               0   \n",
       "1                      0                               1   \n",
       "2                      0                               1   \n",
       "3                      0                               1   \n",
       "4                      0                               1   \n",
       "\n",
       "   Species_CULEX RESTUANS  Month_6  Month_7  Month_8  Month_10  Species_OTHERS  \n",
       "0                       0        0        0        0         0               0  \n",
       "1                       0        0        0        0         0               0  \n",
       "2                       0        0        0        0         0               0  \n",
       "3                       0        0        0        0         0               0  \n",
       "4                       0        0        0        0         0               0  \n",
       "\n",
       "[5 rows x 35 columns]"
      ]
     },
     "execution_count": 3,
     "metadata": {},
     "output_type": "execute_result"
    }
   ],
   "source": [
    "df_train.head()"
   ]
  },
  {
   "cell_type": "code",
   "execution_count": 4,
   "id": "b8e68afb-df12-4abe-8848-f4d8ffb95ab5",
   "metadata": {},
   "outputs": [
    {
     "data": {
      "text/html": [
       "<div>\n",
       "<style scoped>\n",
       "    .dataframe tbody tr th:only-of-type {\n",
       "        vertical-align: middle;\n",
       "    }\n",
       "\n",
       "    .dataframe tbody tr th {\n",
       "        vertical-align: top;\n",
       "    }\n",
       "\n",
       "    .dataframe thead th {\n",
       "        text-align: right;\n",
       "    }\n",
       "</style>\n",
       "<table border=\"1\" class=\"dataframe\">\n",
       "  <thead>\n",
       "    <tr style=\"text-align: right;\">\n",
       "      <th></th>\n",
       "      <th>Id</th>\n",
       "      <th>Latitude</th>\n",
       "      <th>Longitude</th>\n",
       "      <th>Tmax</th>\n",
       "      <th>WetBulb</th>\n",
       "      <th>ResultSpeed</th>\n",
       "      <th>AvgSpeed</th>\n",
       "      <th>relative_humidity</th>\n",
       "      <th>Trange</th>\n",
       "      <th>Tmax_7</th>\n",
       "      <th>...</th>\n",
       "      <th>relative_humidity_14</th>\n",
       "      <th>Trange_14</th>\n",
       "      <th>Species_CULEX PIPIENS</th>\n",
       "      <th>Species_CULEX PIPIENS/RESTUANS</th>\n",
       "      <th>Species_CULEX RESTUANS</th>\n",
       "      <th>Month_6</th>\n",
       "      <th>Month_7</th>\n",
       "      <th>Month_8</th>\n",
       "      <th>Month_10</th>\n",
       "      <th>Species_OTHERS</th>\n",
       "    </tr>\n",
       "  </thead>\n",
       "  <tbody>\n",
       "    <tr>\n",
       "      <th>0</th>\n",
       "      <td>1</td>\n",
       "      <td>41.954690</td>\n",
       "      <td>-87.800991</td>\n",
       "      <td>86.0</td>\n",
       "      <td>64.0</td>\n",
       "      <td>9.15</td>\n",
       "      <td>10.2</td>\n",
       "      <td>59</td>\n",
       "      <td>25</td>\n",
       "      <td>83.428571</td>\n",
       "      <td>...</td>\n",
       "      <td>70.000000</td>\n",
       "      <td>20.571429</td>\n",
       "      <td>0</td>\n",
       "      <td>1</td>\n",
       "      <td>0</td>\n",
       "      <td>1</td>\n",
       "      <td>0</td>\n",
       "      <td>0</td>\n",
       "      <td>0</td>\n",
       "      <td>0</td>\n",
       "    </tr>\n",
       "    <tr>\n",
       "      <th>1</th>\n",
       "      <td>2</td>\n",
       "      <td>41.954690</td>\n",
       "      <td>-87.800991</td>\n",
       "      <td>86.0</td>\n",
       "      <td>64.0</td>\n",
       "      <td>9.15</td>\n",
       "      <td>10.2</td>\n",
       "      <td>59</td>\n",
       "      <td>25</td>\n",
       "      <td>83.428571</td>\n",
       "      <td>...</td>\n",
       "      <td>70.000000</td>\n",
       "      <td>20.571429</td>\n",
       "      <td>0</td>\n",
       "      <td>0</td>\n",
       "      <td>1</td>\n",
       "      <td>1</td>\n",
       "      <td>0</td>\n",
       "      <td>0</td>\n",
       "      <td>0</td>\n",
       "      <td>0</td>\n",
       "    </tr>\n",
       "    <tr>\n",
       "      <th>2</th>\n",
       "      <td>3</td>\n",
       "      <td>41.954690</td>\n",
       "      <td>-87.800991</td>\n",
       "      <td>86.0</td>\n",
       "      <td>64.0</td>\n",
       "      <td>9.15</td>\n",
       "      <td>10.2</td>\n",
       "      <td>59</td>\n",
       "      <td>25</td>\n",
       "      <td>83.428571</td>\n",
       "      <td>...</td>\n",
       "      <td>70.000000</td>\n",
       "      <td>20.571429</td>\n",
       "      <td>1</td>\n",
       "      <td>0</td>\n",
       "      <td>0</td>\n",
       "      <td>1</td>\n",
       "      <td>0</td>\n",
       "      <td>0</td>\n",
       "      <td>0</td>\n",
       "      <td>0</td>\n",
       "    </tr>\n",
       "    <tr>\n",
       "      <th>3</th>\n",
       "      <td>4</td>\n",
       "      <td>41.954690</td>\n",
       "      <td>-87.800991</td>\n",
       "      <td>86.0</td>\n",
       "      <td>64.0</td>\n",
       "      <td>9.15</td>\n",
       "      <td>10.2</td>\n",
       "      <td>59</td>\n",
       "      <td>25</td>\n",
       "      <td>83.428571</td>\n",
       "      <td>...</td>\n",
       "      <td>70.000000</td>\n",
       "      <td>20.571429</td>\n",
       "      <td>0</td>\n",
       "      <td>0</td>\n",
       "      <td>0</td>\n",
       "      <td>1</td>\n",
       "      <td>0</td>\n",
       "      <td>0</td>\n",
       "      <td>0</td>\n",
       "      <td>1</td>\n",
       "    </tr>\n",
       "    <tr>\n",
       "      <th>4</th>\n",
       "      <td>5</td>\n",
       "      <td>41.954690</td>\n",
       "      <td>-87.800991</td>\n",
       "      <td>86.0</td>\n",
       "      <td>64.0</td>\n",
       "      <td>9.15</td>\n",
       "      <td>10.2</td>\n",
       "      <td>59</td>\n",
       "      <td>25</td>\n",
       "      <td>83.428571</td>\n",
       "      <td>...</td>\n",
       "      <td>70.000000</td>\n",
       "      <td>20.571429</td>\n",
       "      <td>0</td>\n",
       "      <td>0</td>\n",
       "      <td>0</td>\n",
       "      <td>1</td>\n",
       "      <td>0</td>\n",
       "      <td>0</td>\n",
       "      <td>0</td>\n",
       "      <td>1</td>\n",
       "    </tr>\n",
       "    <tr>\n",
       "      <th>...</th>\n",
       "      <td>...</td>\n",
       "      <td>...</td>\n",
       "      <td>...</td>\n",
       "      <td>...</td>\n",
       "      <td>...</td>\n",
       "      <td>...</td>\n",
       "      <td>...</td>\n",
       "      <td>...</td>\n",
       "      <td>...</td>\n",
       "      <td>...</td>\n",
       "      <td>...</td>\n",
       "      <td>...</td>\n",
       "      <td>...</td>\n",
       "      <td>...</td>\n",
       "      <td>...</td>\n",
       "      <td>...</td>\n",
       "      <td>...</td>\n",
       "      <td>...</td>\n",
       "      <td>...</td>\n",
       "      <td>...</td>\n",
       "      <td>...</td>\n",
       "    </tr>\n",
       "    <tr>\n",
       "      <th>116288</th>\n",
       "      <td>116289</td>\n",
       "      <td>41.925652</td>\n",
       "      <td>-87.633590</td>\n",
       "      <td>73.5</td>\n",
       "      <td>64.0</td>\n",
       "      <td>7.20</td>\n",
       "      <td>7.9</td>\n",
       "      <td>82</td>\n",
       "      <td>9</td>\n",
       "      <td>75.071429</td>\n",
       "      <td>...</td>\n",
       "      <td>62.928571</td>\n",
       "      <td>20.785714</td>\n",
       "      <td>0</td>\n",
       "      <td>0</td>\n",
       "      <td>0</td>\n",
       "      <td>0</td>\n",
       "      <td>0</td>\n",
       "      <td>0</td>\n",
       "      <td>1</td>\n",
       "      <td>1</td>\n",
       "    </tr>\n",
       "    <tr>\n",
       "      <th>116289</th>\n",
       "      <td>116290</td>\n",
       "      <td>41.925652</td>\n",
       "      <td>-87.633590</td>\n",
       "      <td>73.5</td>\n",
       "      <td>64.0</td>\n",
       "      <td>7.20</td>\n",
       "      <td>7.9</td>\n",
       "      <td>82</td>\n",
       "      <td>9</td>\n",
       "      <td>75.071429</td>\n",
       "      <td>...</td>\n",
       "      <td>62.928571</td>\n",
       "      <td>20.785714</td>\n",
       "      <td>0</td>\n",
       "      <td>0</td>\n",
       "      <td>0</td>\n",
       "      <td>0</td>\n",
       "      <td>0</td>\n",
       "      <td>0</td>\n",
       "      <td>1</td>\n",
       "      <td>1</td>\n",
       "    </tr>\n",
       "    <tr>\n",
       "      <th>116290</th>\n",
       "      <td>116291</td>\n",
       "      <td>41.925652</td>\n",
       "      <td>-87.633590</td>\n",
       "      <td>73.5</td>\n",
       "      <td>64.0</td>\n",
       "      <td>7.20</td>\n",
       "      <td>7.9</td>\n",
       "      <td>82</td>\n",
       "      <td>9</td>\n",
       "      <td>75.071429</td>\n",
       "      <td>...</td>\n",
       "      <td>62.928571</td>\n",
       "      <td>20.785714</td>\n",
       "      <td>0</td>\n",
       "      <td>0</td>\n",
       "      <td>0</td>\n",
       "      <td>0</td>\n",
       "      <td>0</td>\n",
       "      <td>0</td>\n",
       "      <td>1</td>\n",
       "      <td>1</td>\n",
       "    </tr>\n",
       "    <tr>\n",
       "      <th>116291</th>\n",
       "      <td>116292</td>\n",
       "      <td>41.925652</td>\n",
       "      <td>-87.633590</td>\n",
       "      <td>73.5</td>\n",
       "      <td>64.0</td>\n",
       "      <td>7.20</td>\n",
       "      <td>7.9</td>\n",
       "      <td>82</td>\n",
       "      <td>9</td>\n",
       "      <td>75.071429</td>\n",
       "      <td>...</td>\n",
       "      <td>62.928571</td>\n",
       "      <td>20.785714</td>\n",
       "      <td>0</td>\n",
       "      <td>0</td>\n",
       "      <td>0</td>\n",
       "      <td>0</td>\n",
       "      <td>0</td>\n",
       "      <td>0</td>\n",
       "      <td>1</td>\n",
       "      <td>1</td>\n",
       "    </tr>\n",
       "    <tr>\n",
       "      <th>116292</th>\n",
       "      <td>116293</td>\n",
       "      <td>41.925652</td>\n",
       "      <td>-87.633590</td>\n",
       "      <td>73.5</td>\n",
       "      <td>64.0</td>\n",
       "      <td>7.20</td>\n",
       "      <td>7.9</td>\n",
       "      <td>82</td>\n",
       "      <td>9</td>\n",
       "      <td>75.071429</td>\n",
       "      <td>...</td>\n",
       "      <td>62.928571</td>\n",
       "      <td>20.785714</td>\n",
       "      <td>0</td>\n",
       "      <td>0</td>\n",
       "      <td>0</td>\n",
       "      <td>0</td>\n",
       "      <td>0</td>\n",
       "      <td>0</td>\n",
       "      <td>1</td>\n",
       "      <td>1</td>\n",
       "    </tr>\n",
       "  </tbody>\n",
       "</table>\n",
       "<p>116293 rows × 34 columns</p>\n",
       "</div>"
      ],
      "text/plain": [
       "            Id   Latitude  Longitude  Tmax  WetBulb  ResultSpeed  AvgSpeed  \\\n",
       "0            1  41.954690 -87.800991  86.0     64.0         9.15      10.2   \n",
       "1            2  41.954690 -87.800991  86.0     64.0         9.15      10.2   \n",
       "2            3  41.954690 -87.800991  86.0     64.0         9.15      10.2   \n",
       "3            4  41.954690 -87.800991  86.0     64.0         9.15      10.2   \n",
       "4            5  41.954690 -87.800991  86.0     64.0         9.15      10.2   \n",
       "...        ...        ...        ...   ...      ...          ...       ...   \n",
       "116288  116289  41.925652 -87.633590  73.5     64.0         7.20       7.9   \n",
       "116289  116290  41.925652 -87.633590  73.5     64.0         7.20       7.9   \n",
       "116290  116291  41.925652 -87.633590  73.5     64.0         7.20       7.9   \n",
       "116291  116292  41.925652 -87.633590  73.5     64.0         7.20       7.9   \n",
       "116292  116293  41.925652 -87.633590  73.5     64.0         7.20       7.9   \n",
       "\n",
       "        relative_humidity  Trange     Tmax_7  ...  relative_humidity_14  \\\n",
       "0                      59      25  83.428571  ...             70.000000   \n",
       "1                      59      25  83.428571  ...             70.000000   \n",
       "2                      59      25  83.428571  ...             70.000000   \n",
       "3                      59      25  83.428571  ...             70.000000   \n",
       "4                      59      25  83.428571  ...             70.000000   \n",
       "...                   ...     ...        ...  ...                   ...   \n",
       "116288                 82       9  75.071429  ...             62.928571   \n",
       "116289                 82       9  75.071429  ...             62.928571   \n",
       "116290                 82       9  75.071429  ...             62.928571   \n",
       "116291                 82       9  75.071429  ...             62.928571   \n",
       "116292                 82       9  75.071429  ...             62.928571   \n",
       "\n",
       "        Trange_14  Species_CULEX PIPIENS  Species_CULEX PIPIENS/RESTUANS  \\\n",
       "0       20.571429                      0                               1   \n",
       "1       20.571429                      0                               0   \n",
       "2       20.571429                      1                               0   \n",
       "3       20.571429                      0                               0   \n",
       "4       20.571429                      0                               0   \n",
       "...           ...                    ...                             ...   \n",
       "116288  20.785714                      0                               0   \n",
       "116289  20.785714                      0                               0   \n",
       "116290  20.785714                      0                               0   \n",
       "116291  20.785714                      0                               0   \n",
       "116292  20.785714                      0                               0   \n",
       "\n",
       "        Species_CULEX RESTUANS  Month_6  Month_7  Month_8  Month_10  \\\n",
       "0                            0        1        0        0         0   \n",
       "1                            1        1        0        0         0   \n",
       "2                            0        1        0        0         0   \n",
       "3                            0        1        0        0         0   \n",
       "4                            0        1        0        0         0   \n",
       "...                        ...      ...      ...      ...       ...   \n",
       "116288                       0        0        0        0         1   \n",
       "116289                       0        0        0        0         1   \n",
       "116290                       0        0        0        0         1   \n",
       "116291                       0        0        0        0         1   \n",
       "116292                       0        0        0        0         1   \n",
       "\n",
       "        Species_OTHERS  \n",
       "0                    0  \n",
       "1                    0  \n",
       "2                    0  \n",
       "3                    1  \n",
       "4                    1  \n",
       "...                ...  \n",
       "116288               1  \n",
       "116289               1  \n",
       "116290               1  \n",
       "116291               1  \n",
       "116292               1  \n",
       "\n",
       "[116293 rows x 34 columns]"
      ]
     },
     "execution_count": 4,
     "metadata": {},
     "output_type": "execute_result"
    }
   ],
   "source": [
    "df_test.head()"
   ]
  },
  {
   "cell_type": "markdown",
   "id": "a0752d4e-31f6-47ea-90aa-dad057a383ee",
   "metadata": {},
   "source": [
    "df_train = pd.get_dummies(df_train, \n",
    "                          columns =  ['Species','Month','Week','Day'],\n",
    "                          drop_first = True)"
   ]
  },
  {
   "cell_type": "code",
   "execution_count": 5,
   "id": "be2183e8-2dd0-401c-b26a-5612c92e34a5",
   "metadata": {},
   "outputs": [],
   "source": [
    "# Defining X and y for modelling\n",
    "\n",
    "X = df_train.drop(columns = ['WnvPresent','NumMosquitos'], axis =1)\n",
    "y = df_train['WnvPresent']\n",
    "test = df_test.drop('Id', axis =1)"
   ]
  },
  {
   "cell_type": "code",
   "execution_count": 6,
   "id": "80606544-1cd0-458d-aa90-af0681fcd40b",
   "metadata": {
    "tags": []
   },
   "outputs": [
    {
     "name": "stdout",
     "output_type": "stream",
     "text": [
      "0    0.946077\n",
      "1    0.053923\n",
      "Name: WnvPresent, dtype: float64\n"
     ]
    }
   ],
   "source": [
    "# checking if y is imbalanced\n",
    "\n",
    "print(y.value_counts(normalize=True))"
   ]
  },
  {
   "cell_type": "code",
   "execution_count": 7,
   "id": "89b96baf-2a9d-445d-887d-14961d3df606",
   "metadata": {},
   "outputs": [],
   "source": [
    "# Conducting a train and validation split\n",
    "\n",
    "X_train,X_val,y_train,y_val = train_test_split(X,\n",
    "                                               y,\n",
    "                                               random_state=42, \n",
    "                                               stratify=y,\n",
    "                                               test_size=0.2)"
   ]
  },
  {
   "cell_type": "markdown",
   "id": "433a22ed-0d66-4218-8cfb-2c069b9551d0",
   "metadata": {},
   "source": [
    "## Modelling"
   ]
  },
  {
   "cell_type": "code",
   "execution_count": 8,
   "id": "db9752a8-6250-4a09-8b92-876aea5a9c04",
   "metadata": {},
   "outputs": [],
   "source": [
    "# constructing 4 pipeline\n",
    "# each pipeline will include\n",
    "# Scaling\n",
    "# SMOTE (to tackle the imbalance y)\n",
    "# classifier model\n",
    "\n",
    "# pipe line 1, smote with Randomforestclassifier\n",
    "# SMOTE synthesises new minority instances between existing minority instances\n",
    "# SMOTE applies KNN approach where it selects K nearest neighbors, joins them and creates the synthetic samples in the space.\n",
    "# RandomForestClassifier fits a number of decision tree classifiers on various sub-samples of the dataset and uses averaging to improve the predictive accuracy and control over-fitting.\n",
    "\n",
    "pipe_1 = Pipeline([('scaling', StandardScaler()),\n",
    "                   ('sampling', SMOTE()), \n",
    "                   ('RF', RandomForestClassifier())])\n",
    "\n",
    "pipe_params_1 = {'sampling__k_neighbors': [10],\n",
    "                 'sampling__random_state': [42], #[10, 15, 20]\n",
    "                 'RF__n_estimators': [20], #[10, 20, 30, 40]\n",
    "                 'RF__max_leaf_nodes': [5], #[3, 4, 5]\n",
    "                 'RF__max_depth': [3], # [3, 4, 5, 6, 7]\n",
    "                 'RF__random_state': [42]}\n",
    "\n",
    "# pipe line 2, smote with XGBClassifier\n",
    "#XGBClassifier is a scalable, distributed gradient-boosted decision tree (GBDT) machine learning library\n",
    "\n",
    "pipe_2 = Pipeline([('scaling', StandardScaler()),\n",
    "                   ('sampling', SMOTE()), \n",
    "                   ('xgb', XGBClassifier())])\n",
    "\n",
    "pipe_params_2 = {'sampling__k_neighbors': [10], #[5, 10]\n",
    "                 'sampling__random_state': [42],\n",
    "                 'xgb__learning_rate': [0.15], # [0.03, 0.05, 0.1, 0.1, 0.15, 0.2]\n",
    "                 'xgb__max_depth':[4], #[2, 3, 4]\n",
    "                 'xgb__n_estimators': [45], #[20, 30, 40, 45, 50]\n",
    "                 'xgb__subsample':[0.5], #[0.1, 0.2, 0.3, 0.5, 0.8, 1]\n",
    "                 'xgb__verbosity': [0]} #[0,2]\n",
    "\n",
    "# pipe line 3, smote with AdaBoostClassifier\n",
    "# AdaBoostClassifier begins by fitting a classifier on the original dataset and then fits \n",
    "# additional copies of the classifier on the same dataset but where the weights of incorrectly \n",
    "# classified instances are adjusted such that subsequent classifiers focus more on difficult cases\n",
    "\n",
    "pipe_3 = Pipeline([('scaling', StandardScaler()),\n",
    "                   ('sampling', SMOTE()),\n",
    "                   ('ada', AdaBoostClassifier())])\n",
    "\n",
    "pipe_params_3 = {'sampling__k_neighbors': [5], #[5,10,15]\n",
    "                 'sampling__random_state': [42],\n",
    "                 'ada__n_estimators': [50], #[20, 30, 40, 50, 60]\n",
    "                 'ada__learning_rate': [0.5]} #[0.5, 0.8, 0.9, 1]\n",
    "\n",
    "#logistic regression\n",
    "pipe_4 = Pipeline([('scaling', StandardScaler()),\n",
    "                   ('sampling', SMOTE()),\n",
    "                   ('logr', LogisticRegression())])\n",
    "\n",
    "pipe_params_4 = {'sampling__k_neighbors': [5], #[5,10,15]\n",
    "                 'sampling__random_state': [42],\n",
    "                 'logr__penalty': ['l2'], #['l1', 'l2']\n",
    "                 'logr__C':[0.12648552168552957], # np.linespace\n",
    "                 'logr__class_weight': [None], #[None, 'balanced']\n",
    "                 'logr__max_iter': [500]} \n",
    "\n",
    "\n",
    "def run_model(pipe, pipe_params):\n",
    "    \n",
    "    global X_train,X_val,y_train,y_val\n",
    "    \n",
    "    #include gridsearch\n",
    "    gs = GridSearchCV(pipe,param_grid = pipe_params,scoring = 'roc_auc', cv=5, verbose = 1, n_jobs = -1)\n",
    "    gs.fit(X_train,y_train)\n",
    "    print(gs.best_params_)\n",
    "    preds = gs.predict(X_val)\n",
    "    print(\"ROC_AUC CV score: \", gs.best_score_)\n",
    "    print(\"Train Score: \", gs.score(X_train,y_train))\n",
    "    print(\"Test Score: \", gs.score(X_val,y_val))\n",
    "    plot_confusion_matrix(gs,X_val,y_val)\n",
    "    plot_roc_curve(gs,X_val,y_val)"
   ]
  },
  {
   "cell_type": "markdown",
   "id": "d40275b4-e9a4-49f3-a9f9-f0626f83f35c",
   "metadata": {},
   "source": [
    "### Random Forest"
   ]
  },
  {
   "cell_type": "code",
   "execution_count": 9,
   "id": "4a5cf7be-1571-431a-8219-fbf06a062c74",
   "metadata": {},
   "outputs": [
    {
     "name": "stdout",
     "output_type": "stream",
     "text": [
      "Fitting 5 folds for each of 1 candidates, totalling 5 fits\n",
      "{'RF__max_depth': 3, 'RF__max_leaf_nodes': 5, 'RF__n_estimators': 20, 'RF__random_state': 42, 'sampling__k_neighbors': 10, 'sampling__random_state': 42}\n",
      "ROC_AUC CV score:  0.8033186716647869\n",
      "Train Score:  0.818654037189822\n",
      "Test Score:  0.7986147269189663\n"
     ]
    },
    {
     "data": {
      "image/png": "[encoded data removed]",
      "text/plain": [
       "<Figure size 432x288 with 2 Axes>"
      ]
     },
     "metadata": {
      "needs_background": "light"
     },
     "output_type": "display_data"
    },
    {
     "data": {
      "image/png": "[encoded data removed]",
      "text/plain": [
       "<Figure size 432x288 with 1 Axes>"
      ]
     },
     "metadata": {
      "needs_background": "light"
     },
     "output_type": "display_data"
    }
   ],
   "source": [
    "#Random Forest\n",
    "run_model(pipe_1, pipe_params_1)"
   ]
  },
  {
   "cell_type": "markdown",
   "id": "3c720a44-928a-483e-a854-b72f1823c6ad",
   "metadata": {},
   "source": [
    "### XGBoost"
   ]
  },
  {
   "cell_type": "code",
   "execution_count": 10,
   "id": "de51f98c-af60-4359-b00e-64a13c456fa2",
   "metadata": {},
   "outputs": [
    {
     "name": "stdout",
     "output_type": "stream",
     "text": [
      "Fitting 5 folds for each of 1 candidates, totalling 5 fits\n",
      "{'sampling__k_neighbors': 10, 'sampling__random_state': 42, 'xgb__learning_rate': 0.15, 'xgb__max_depth': 4, 'xgb__n_estimators': 45, 'xgb__subsample': 0.5, 'xgb__verbosity': 0}\n",
      "ROC_AUC CV score:  0.839663326752838\n",
      "Train Score:  0.8952434565099228\n",
      "Test Score:  0.8416561617933189\n"
     ]
    },
    {
     "data": {
      "image/png": "[encoded data removed]",
      "text/plain": [
       "<Figure size 432x288 with 2 Axes>"
      ]
     },
     "metadata": {
      "needs_background": "light"
     },
     "output_type": "display_data"
    },
    {
     "data": {
      "image/png": "[encoded data removed]",
      "text/plain": [
       "<Figure size 432x288 with 1 Axes>"
      ]
     },
     "metadata": {
      "needs_background": "light"
     },
     "output_type": "display_data"
    }
   ],
   "source": [
    "#XGBoost\n",
    "run_model(pipe_2, pipe_params_2)"
   ]
  },
  {
   "cell_type": "markdown",
   "id": "2e32b67b-88b2-42ee-8422-6e95752a2765",
   "metadata": {},
   "source": [
    "### AdaBoost"
   ]
  },
  {
   "cell_type": "code",
   "execution_count": 11,
   "id": "ec8f4b95-0ae2-4f4e-810a-77f93b9bfb01",
   "metadata": {},
   "outputs": [
    {
     "name": "stdout",
     "output_type": "stream",
     "text": [
      "Fitting 5 folds for each of 1 candidates, totalling 5 fits\n",
      "{'ada__learning_rate': 0.5, 'ada__n_estimators': 50, 'sampling__k_neighbors': 5, 'sampling__random_state': 42}\n",
      "ROC_AUC CV score:  0.8314381347095265\n",
      "Train Score:  0.856277933686727\n",
      "Test Score:  0.8177530075909129\n"
     ]
    },
    {
     "data": {
      "image/png": "[encoded data removed]",
      "text/plain": [
       "<Figure size 432x288 with 2 Axes>"
      ]
     },
     "metadata": {
      "needs_background": "light"
     },
     "output_type": "display_data"
    },
    {
     "data": {
      "image/png": "[encoded data removed]",
      "text/plain": [
       "<Figure size 432x288 with 1 Axes>"
      ]
     },
     "metadata": {
      "needs_background": "light"
     },
     "output_type": "display_data"
    }
   ],
   "source": [
    "#AdaBoost\n",
    "run_model(pipe_3, pipe_params_3)"
   ]
  },
  {
   "cell_type": "markdown",
   "id": "6f54b03f-77d5-4e23-965b-c11c77e76f6d",
   "metadata": {},
   "source": [
    "### Logistic Regression"
   ]
  },
  {
   "cell_type": "code",
   "execution_count": 12,
   "id": "7c0d2fe5-dc0c-4cc4-baa6-cd39e80db29c",
   "metadata": {},
   "outputs": [
    {
     "name": "stdout",
     "output_type": "stream",
     "text": [
      "Fitting 5 folds for each of 1 candidates, totalling 5 fits\n",
      "{'logr__C': 0.12648552168552957, 'logr__class_weight': None, 'logr__max_iter': 500, 'logr__penalty': 'l2', 'sampling__k_neighbors': 5, 'sampling__random_state': 42}\n",
      "ROC_AUC CV score:  0.8358125283217103\n",
      "Train Score:  0.8511981134165189\n",
      "Test Score:  0.8297114356964732\n"
     ]
    },
    {
     "data": {
      "image/png": "[encoded data removed]",
      "text/plain": [
       "<Figure size 432x288 with 2 Axes>"
      ]
     },
     "metadata": {
      "needs_background": "light"
     },
     "output_type": "display_data"
    },
    {
     "data": {
      "image/png": "[encoded data removed]",
      "text/plain": [
       "<Figure size 432x288 with 1 Axes>"
      ]
     },
     "metadata": {
      "needs_background": "light"
     },
     "output_type": "display_data"
    }
   ],
   "source": [
    "#Logistic Regression\n",
    "run_model(pipe_4, pipe_params_4)"
   ]
  },
  {
   "cell_type": "markdown",
   "id": "d54a6428-8c91-40aa-8088-0a644a627544",
   "metadata": {},
   "source": [
    "### Baseline Model"
   ]
  },
  {
   "cell_type": "markdown",
   "id": "578ba286-417e-45e3-8b06-3022dd88f519",
   "metadata": {},
   "source": [
    "Our baseline model will make the prediction based on the probability of WNV occurence."
   ]
  },
  {
   "cell_type": "code",
   "execution_count": 13,
   "id": "2183e28a-7865-4433-a3a8-409e03a78c77",
   "metadata": {},
   "outputs": [
    {
     "name": "stdout",
     "output_type": "stream",
     "text": [
      "0    0.946077\n",
      "1    0.053923\n",
      "Name: WnvPresent, dtype: float64\n"
     ]
    }
   ],
   "source": [
    "print(y.value_counts(normalize=True))"
   ]
  },
  {
   "cell_type": "markdown",
   "id": "0a12920e-0e11-4558-b60a-b225fee3375b",
   "metadata": {},
   "source": [
    "## Model Evaluation"
   ]
  },
  {
   "cell_type": "markdown",
   "id": "3293ca6f-3c61-4b62-b913-6258039b20e3",
   "metadata": {},
   "source": [
    "The various metrics are compiled in the table below for easy comparison among the models."
   ]
  },
  {
   "cell_type": "markdown",
   "id": "792e3549-5e28-4a5f-b5e9-03b6a460c598",
   "metadata": {},
   "source": [
    "|   |      **Classifier** | **Train** | **Test** | **ROC_AUC CV** | **Train-Test** |\n",
    "|--:|--------------------:|--------------|----------------|-----------------|------------|\n",
    "| 1 | Random Forest       | 0.818        | 0.799          | 0.803           | **0.019**  |\n",
    "| 2 | AdaBoost            | 0.856        | 0.818          | 0.831           | 0.038      |\n",
    "| 3 | XGBoost             | 0.895        | 0.841          | **0.840**       | 0.054      |\n",
    "| 4 | Logistic Regression | 0.851        | 0.829          | **0.836**       | **0.022**  |"
   ]
  },
  {
   "cell_type": "markdown",
   "id": "5472db0e-808a-41ab-a6a5-aaf20651ae61",
   "metadata": {},
   "source": [
    "From the above table, we observe that the Random Forest model suffers the least overfitting, with train score just 0.019 above the test score. This is closely followed by the Logistic Regression model of o.022 difference between the train and test scores.\n",
    "\n",
    "However, the Random Forest model scored lowest for ROC_AUC metric while the Logistic Regression acheive the second highest score of 0.836, losing out marginally to the XGboost model which is also the most overfitted model.\n",
    "\n",
    "Therefore, having considered both the ROC AUC score and how well the model fits, our group has choosen the Logistic Model in this case as our model of choice."
   ]
  },
  {
   "cell_type": "code",
   "execution_count": 14,
   "id": "980a8e41-aa16-4c44-9855-78d5cba1bc36",
   "metadata": {
    "jupyter": {
     "source_hidden": true
    },
    "tags": []
   },
   "outputs": [
    {
     "data": {
      "text/plain": [
       "<Figure size 432x288 with 0 Axes>"
      ]
     },
     "metadata": {},
     "output_type": "display_data"
    },
    {
     "data": {
      "image/png": "[encoded data removed]",
      "text/plain": [
       "<Figure size 1008x648 with 1 Axes>"
      ]
     },
     "metadata": {
      "needs_background": "light"
     },
     "output_type": "display_data"
    }
   ],
   "source": [
    "#set up plotting area\n",
    "plt.figure(0).clf()\n",
    "plt.figure(figsize=(14,9))\n",
    "\n",
    "#fit XGBoost model and plot ROC Curve\n",
    "learning_ratebestparam3 = 0.15\n",
    "max_depthbestparam3 = 4\n",
    "n_estimatorsbestparam3 = 45\n",
    "subsample_bestparam3 = 0.1\n",
    "verbosity_bestparam3 = 0\n",
    "\n",
    "best_gs_xg = Pipeline([('ss',StandardScaler()),\n",
    "                       ('sampling', SMOTE(k_neighbors = 10,\n",
    "                                         random_state = 42)),\n",
    "                        ('xgb', XGBClassifier(learning_rate  = learning_ratebestparam3, \n",
    "                                              max_depth = max_depthbestparam3, \n",
    "                                              n_estimators = n_estimatorsbestparam3, \n",
    "                                              subsample = subsample_bestparam3,\n",
    "                                              verbosity = verbosity_bestparam3))])\n",
    "\n",
    "\n",
    "best_gs_xg.fit(X_train, y_train)\n",
    "preds_xg = best_gs_xg.predict_proba(X_val)[:,1]\n",
    "fpr, tpr, _ = metrics.roc_curve(y_val, preds_xg)\n",
    "auc = round(metrics.roc_auc_score(y_val, preds_xg), 4)\n",
    "plt.plot(fpr,tpr,label=\"XGBoost, AUC=\"+str(auc))\n",
    "\n",
    "#fit logistic regression model and plot ROC curve\n",
    "penaltybestparam4 = 'l2'\n",
    "class_weightbestparam4 = None\n",
    "Cbestparam4 = 0.12648552168552957\n",
    "\n",
    "best_gs_lr = Pipeline([('ss',StandardScaler()),\n",
    "                       ('sampling', SMOTE(k_neighbors = 5,\n",
    "                                         random_state = 42)),\n",
    "                       ('logr', LogisticRegression(penalty  = penaltybestparam4,\n",
    "                                                   max_iter = 5000,\n",
    "                                                   class_weight = class_weightbestparam4,\n",
    "                                                   C = Cbestparam4))])\n",
    "\n",
    "best_gs_lr.fit(X_train, y_train)\n",
    "preds_lr = best_gs_lr.predict_proba(X_val)[:,1]\n",
    "fpr, tpr, _ = metrics.roc_curve(y_val, preds_lr)\n",
    "auc = round(metrics.roc_auc_score(y_val, preds_lr), 4)\n",
    "plt.plot(fpr,tpr,label=\"Logistic Regression, AUC=\"+str(auc))\n",
    "\n",
    "#fit random forest model and plot ROC curve\n",
    "n_estimatorsbestparam = 20\n",
    "max_leaf_nodesbestparam = 5\n",
    "max_depthbestparam = 3\n",
    "\n",
    "best_gs_rf = Pipeline([('ss',StandardScaler()),\n",
    "                       ('sampling', SMOTE(k_neighbors = 10,\n",
    "                                         random_state = 42)),\n",
    "                       ('RF', RandomForestClassifier(n_estimators = n_estimatorsbestparam, \n",
    "                                                     max_leaf_nodes = max_leaf_nodesbestparam,\n",
    "                                                     max_depth = max_depthbestparam))])\n",
    "\n",
    "best_gs_rf.fit(X_train, y_train)\n",
    "preds_rf = best_gs_rf.predict_proba(X_val)[:,1]\n",
    "fpr, tpr, _ = metrics.roc_curve(y_val, preds_rf)\n",
    "auc = round(metrics.roc_auc_score(y_val, preds_rf), 4)\n",
    "plt.plot(fpr,tpr,label=\"Random Forest, AUC=\"+str(auc))\n",
    "\n",
    "preds_baseline = [0.054]*len(y_val)\n",
    "fpr, tpr, _ = metrics.roc_curve(y_val, preds_baseline)\n",
    "auc = round(metrics.roc_auc_score(y_val, preds_baseline), 4)\n",
    "plt.plot(fpr,tpr,label=\"Baseline, AUC=\"+str(auc))\n",
    "\n",
    "\n",
    "#add legend\n",
    "plt.legend()\n",
    "\n",
    "plt.title('ROC AUC Curve Comparison', fontsize = 16);"
   ]
  },
  {
   "cell_type": "markdown",
   "id": "a6783b49-5867-41ca-ad09-c6df515752dc",
   "metadata": {
    "tags": []
   },
   "source": [
    "## Final Model Predictions"
   ]
  },
  {
   "cell_type": "markdown",
   "id": "a4f69058-db4b-4f8e-aa53-a3d9e0e6f0a9",
   "metadata": {
    "tags": []
   },
   "source": [
    "### Logistic Regression"
   ]
  },
  {
   "cell_type": "code",
   "execution_count": 15,
   "id": "2eca3c24-744b-47a6-bd8d-1df642279a5d",
   "metadata": {},
   "outputs": [],
   "source": [
    "penaltybestparam4 = 'l2'\n",
    "class_weightbestparam4 = None\n",
    "Cbestparam4 = 0.12648552168552957\n",
    "\n",
    "best_gs_lr = Pipeline([('ss',StandardScaler()),\n",
    "                       ('logr', LogisticRegression(penalty  = penaltybestparam4,\n",
    "                                                   max_iter = 5000,\n",
    "                                                   class_weight = class_weightbestparam4,\n",
    "                                                   C = Cbestparam4))])\n",
    "\n",
    "best_gs_lr.fit(X, y)\n",
    "predictions_lr = best_gs_lr.predict_proba(test)[:,1]\n"
   ]
  },
  {
   "cell_type": "code",
   "execution_count": 16,
   "id": "d2bfab1c-14db-4b9b-804a-277449c2b222",
   "metadata": {},
   "outputs": [],
   "source": [
    "# exporting csv file for Kaggle Submission\n",
    "df_test['WnvPresent'] = predictions_lr\n",
    "testing_submission = df_test[['Id', 'WnvPresent']]\n",
    "testing_submission.columns = ['Id', 'WnvPresent']\n",
    "testing_submission.to_csv('../assets/KaggleSub_LR.csv', index=False)"
   ]
  },
  {
   "cell_type": "code",
   "execution_count": 17,
   "id": "021a44ce-92c5-47cd-b8a8-357fd60506ba",
   "metadata": {},
   "outputs": [],
   "source": [
    "# Fitting model to retrieve useful features"
   ]
  },
  {
   "cell_type": "code",
   "execution_count": 18,
   "id": "464be6f2-ead5-4ad7-a9fd-68cd5e9cef5c",
   "metadata": {},
   "outputs": [
    {
     "name": "stdout",
     "output_type": "stream",
     "text": [
      "Fitting 5 folds for each of 1 candidates, totalling 5 fits\n"
     ]
    },
    {
     "data": {
      "text/plain": [
       "GridSearchCV(cv=5,\n",
       "             estimator=Pipeline(steps=[('scaling', StandardScaler()),\n",
       "                                       ('sampling', SMOTE()),\n",
       "                                       ('logr', LogisticRegression())]),\n",
       "             n_jobs=-1,\n",
       "             param_grid={'logr__C': [0.12648552168552957],\n",
       "                         'logr__class_weight': [None], 'logr__max_iter': [500],\n",
       "                         'logr__penalty': ['l2'], 'sampling__k_neighbors': [5],\n",
       "                         'sampling__random_state': [42]},\n",
       "             scoring='roc_auc', verbose=1)"
      ]
     },
     "execution_count": 18,
     "metadata": {},
     "output_type": "execute_result"
    }
   ],
   "source": [
    "gs_lr = GridSearchCV(pipe_4,param_grid = pipe_params_4,scoring = 'roc_auc', cv=5, verbose = 1, n_jobs = -1)\n",
    "gs_lr.fit(X_train,y_train)"
   ]
  },
  {
   "cell_type": "code",
   "execution_count": 19,
   "id": "45790905-338a-4db5-bf82-648b29a0e161",
   "metadata": {},
   "outputs": [
    {
     "data": {
      "text/html": [
       "<div>\n",
       "<style scoped>\n",
       "    .dataframe tbody tr th:only-of-type {\n",
       "        vertical-align: middle;\n",
       "    }\n",
       "\n",
       "    .dataframe tbody tr th {\n",
       "        vertical-align: top;\n",
       "    }\n",
       "\n",
       "    .dataframe thead th {\n",
       "        text-align: right;\n",
       "    }\n",
       "</style>\n",
       "<table border=\"1\" class=\"dataframe\">\n",
       "  <thead>\n",
       "    <tr style=\"text-align: right;\">\n",
       "      <th></th>\n",
       "      <th>coef_lr</th>\n",
       "    </tr>\n",
       "  </thead>\n",
       "  <tbody>\n",
       "    <tr>\n",
       "      <th>WetBulb</th>\n",
       "      <td>3.613631</td>\n",
       "    </tr>\n",
       "    <tr>\n",
       "      <th>AvgSpeed_14</th>\n",
       "      <td>3.560329</td>\n",
       "    </tr>\n",
       "    <tr>\n",
       "      <th>relative_humidity_14</th>\n",
       "      <td>3.184782</td>\n",
       "    </tr>\n",
       "    <tr>\n",
       "      <th>relative_humidity_7</th>\n",
       "      <td>2.263826</td>\n",
       "    </tr>\n",
       "    <tr>\n",
       "      <th>SeaLevel_14</th>\n",
       "      <td>1.988329</td>\n",
       "    </tr>\n",
       "    <tr>\n",
       "      <th>Trange_7</th>\n",
       "      <td>1.881251</td>\n",
       "    </tr>\n",
       "    <tr>\n",
       "      <th>AvgSpeed</th>\n",
       "      <td>1.491850</td>\n",
       "    </tr>\n",
       "    <tr>\n",
       "      <th>Tmax_7</th>\n",
       "      <td>1.466325</td>\n",
       "    </tr>\n",
       "    <tr>\n",
       "      <th>WetBulb_14</th>\n",
       "      <td>1.451649</td>\n",
       "    </tr>\n",
       "    <tr>\n",
       "      <th>Tmax_14</th>\n",
       "      <td>1.448248</td>\n",
       "    </tr>\n",
       "  </tbody>\n",
       "</table>\n",
       "</div>"
      ],
      "text/plain": [
       "                       coef_lr\n",
       "WetBulb               3.613631\n",
       "AvgSpeed_14           3.560329\n",
       "relative_humidity_14  3.184782\n",
       "relative_humidity_7   2.263826\n",
       "SeaLevel_14           1.988329\n",
       "Trange_7              1.881251\n",
       "AvgSpeed              1.491850\n",
       "Tmax_7                1.466325\n",
       "WetBulb_14            1.451649\n",
       "Tmax_14               1.448248"
      ]
     },
     "execution_count": 19,
     "metadata": {},
     "output_type": "execute_result"
    }
   ],
   "source": [
    "n_coef = gs_lr.best_estimator_[0].get_feature_names_out()\n",
    "coef = gs_lr.best_estimator_.named_steps.logr.coef_[0]\n",
    "coef = np.exp(coef)\n",
    "df_coef = pd.DataFrame(coef,index=n_coef)\n",
    "df_coef.columns = [\"coef_lr\"]\n",
    "df_coef.sort_values(by = ['coef_lr'],ascending = False).head(10)"
   ]
  },
  {
   "cell_type": "markdown",
   "id": "28eb1086-5d42-4770-b15f-e65ecbaf0fbb",
   "metadata": {},
   "source": [
    "From the above table, we observe that the important features utilised by the model to make the prediction are  mainly associated with weather conditions for the pass 1 and 2 weeks. This is consistent with the breeding cycle of mosquitos thus if the favourable conditions are detected, it will increase the chance of mosquitos breeding and presense of the West Nile Virus."
   ]
  }
 ],
 "metadata": {
  "kernelspec": {
   "display_name": "Python 3 (ipykernel)",
   "language": "python",
   "name": "python3"
  },
  "language_info": {
   "codemirror_mode": {
    "name": "ipython",
    "version": 3
   },
   "file_extension": ".py",
   "mimetype": "text/x-python",
   "name": "python",
   "nbconvert_exporter": "python",
   "pygments_lexer": "ipython3",
   "version": "3.8.13"
  }
 },
 "nbformat": 4,
 "nbformat_minor": 5
}
